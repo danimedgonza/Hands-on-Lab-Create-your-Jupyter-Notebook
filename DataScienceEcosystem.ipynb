{
 "cells": [
  {
   "cell_type": "markdown",
   "id": "0dc013aa-10c4-4740-9862-a9f7d48bdc87",
   "metadata": {},
   "source": [
    "# Data Science Tools and Ecosystem"
   ]
  },
  {
   "cell_type": "markdown",
   "id": "9b40d0fd-dde9-4b0a-aad4-83bc8d80ce51",
   "metadata": {},
   "source": [
    "In this notebook, Data Science Tools and Ecosystem are summarized."
   ]
  },
  {
   "cell_type": "markdown",
   "id": "d453ed72-6360-4387-a334-c73b786d993b",
   "metadata": {},
   "source": [
    "**Objectives:**\n",
    "\n",
    "- List popular languages for Data Science\n",
    "- Demonstrate basic arithmetic operations in Python\n",
    "- Convert minutes to hours using Python expressions\n",
    "- Understand how to write and format markdown cells\n",
    "- Execute simple Python code cells and display their output\n"
   ]
  },
  {
   "cell_type": "markdown",
   "id": "2489ba8d-7547-4a63-b105-c3ad8e63eba8",
   "metadata": {},
   "source": [
    "Some of the popular languages that Data Scientists use are:\n",
    "1. Python\n",
    "2. R\n",
    "3. SQL\n",
    "4. Scala\n",
    "5. Java\n",
    "6. C++\n",
    "7. Julia"
   ]
  },
  {
   "cell_type": "markdown",
   "id": "0333a0f9-c6dc-442e-9726-eead3276e7ac",
   "metadata": {},
   "source": [
    "Some of the commonly used libraries used by Data Scientists include:\n",
    "1. Pandas (Python)\n",
    "2. NumPy (Python)\n",
    "3. SciPy (Python)\n",
    "4. Matplotlib (Python)\n",
    "5. TensorFlow (Python)\n",
    "6. ggplot2 (R)\n",
    "7. plotly (R)\n",
    "8. Lattice (R)"
   ]
  },
  {
   "cell_type": "markdown",
   "id": "3d93cb6a-aeb5-4361-a515-6a06ce2f67fd",
   "metadata": {},
   "source": [
    "|Data Science Tools|\n",
    "|--------------------|\n",
    "|Jupyter Notebook|\n",
    "|RStudio|\n",
    "|VS Code|"
   ]
  },
  {
   "cell_type": "markdown",
   "id": "35402958-2ea5-4bdf-9c6c-af21afb57f74",
   "metadata": {},
   "source": [
    "### Below are a few examples of evaluating arithmetic expressions in Python"
   ]
  },
  {
   "cell_type": "code",
   "execution_count": 1,
   "id": "51eb89bf-d224-4f0b-b84c-f509fe309f6b",
   "metadata": {},
   "outputs": [
    {
     "data": {
      "text/plain": [
       "17"
      ]
     },
     "execution_count": 1,
     "metadata": {},
     "output_type": "execute_result"
    }
   ],
   "source": [
    "#This a simple arithmetic expression to mutiply then add integers\n",
    "(3*4)+5"
   ]
  },
  {
   "cell_type": "code",
   "execution_count": 4,
   "id": "55a3fda3-f9e7-4e5c-af49-cc5d0036b86c",
   "metadata": {},
   "outputs": [
    {
     "name": "stdout",
     "output_type": "stream",
     "text": [
      "200 minutes are equal to 3.3333 hours.\n"
     ]
    }
   ],
   "source": [
    "#This will convert 200 minutes to hours by diving by 60\n",
    "minutes=200\n",
    "hours=minutes/60\n",
    "print(f\"{minutes} minutes are equal to {hours:.4f} hours.\")"
   ]
  },
  {
   "cell_type": "markdown",
   "id": "34db6af3-689a-4577-8207-2328ceee27bc",
   "metadata": {},
   "source": [
    "## Author\n",
    "\n",
    "Daniel Medina Gonzalez\n"
   ]
  }
 ],
 "metadata": {
  "kernelspec": {
   "display_name": "Python 3 (ipykernel)",
   "language": "python",
   "name": "python3"
  },
  "language_info": {
   "codemirror_mode": {
    "name": "ipython",
    "version": 3
   },
   "file_extension": ".py",
   "mimetype": "text/x-python",
   "name": "python",
   "nbconvert_exporter": "python",
   "pygments_lexer": "ipython3",
   "version": "3.12.8"
  }
 },
 "nbformat": 4,
 "nbformat_minor": 5
}
