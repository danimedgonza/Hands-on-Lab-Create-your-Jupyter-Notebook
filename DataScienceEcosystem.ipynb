{
 "cells": [
  {
   "cell_type": "markdown",
   "id": "c7231ff0-b598-4154-a206-4394c2c4bcdf",
   "metadata": {},
   "source": [
    "**Exercise 1: Create a Jupyter Notebook**\n",
    "\n",
    "Create a new Jupyter notebook called **DataScienceEcosystem.ipynb**\n",
    "\n",
    "> *Note: The next item in the course will launch JupyterLite with an empty notebook with this name that you can use to complete rest of the Exercises. You can also use any other Jupyter notebook environment (e.g. Anaconda) that you prefer to complete the assignment.*\n"
   ]
  },
  {
   "attachments": {},
   "cell_type": "markdown",
   "id": "52b7985e-69ea-4a2d-be7d-3f27d231cb54",
   "metadata": {},
   "source": [
    "**Exercise 2:** Create markdown cell with title of the notebook  \n",
    "\n",
    "Create a markdown cell with the title `Data Science Tools and Ecosystem` using H1 style heading.\n",
    "\n",
    "*Take a screenshot of the markdown cell and name it as* `2-title.png`\n"
   ]
  },
  {
   "cell_type": "markdown",
   "id": "0dc013aa-10c4-4740-9862-a9f7d48bdc87",
   "metadata": {},
   "source": [
    "# Data Science Tools and Ecosystem"
   ]
  },
  {
   "cell_type": "markdown",
   "id": "270c7d68-1eb5-4ee2-b6d9-824840253b99",
   "metadata": {},
   "source": [
    "**Exercise 3 - Create a markdown cell for an introduction**\n",
    "\n",
    "Write an introductory sentence about the notebook such as the follows:\n",
    "\n",
    "`In this notebook, Data Science Tools and Ecosystem are summarized.`\n",
    "\n",
    "*Take a screenshot of the markdown cell and name it as* `3-intro.png`\n"
   ]
  },
  {
   "cell_type": "markdown",
   "id": "9b40d0fd-dde9-4b0a-aad4-83bc8d80ce51",
   "metadata": {},
   "source": [
    "In this notebook, Data Science Tools and Ecosystem are summarized."
   ]
  },
  {
   "cell_type": "markdown",
   "id": "d453ed72-6360-4387-a334-c73b786d993b",
   "metadata": {},
   "source": [
    "**Objectives:**\n",
    "\n",
    "- List popular languages for Data Science\n",
    "- Demonstrate basic arithmetic operations in Python\n",
    "- Convert minutes to hours using Python expressions\n",
    "- Understand how to write and format markdown cells\n",
    "- Execute simple Python code cells and display their output\n"
   ]
  },
  {
   "cell_type": "markdown",
   "id": "55bd7464-d7c1-46d4-a730-7a69009bf75f",
   "metadata": {},
   "source": [
    "**Exercise 4 - Create a markdown cell to list data science languages**\n",
    "\n",
    "Start the cell with an overview line such as:\n",
    "\n",
    "`Some of the popular languages that Data Scientists use are:`\n",
    "\n",
    "Then create an `ordered list` (i.e. numbered) listing 3 (or more) commonly used languages for data science.\n",
    "\n",
    "*Take a screenshot of the markdown cell and name it as* `4-dslanguages.png`\n"
   ]
  },
  {
   "cell_type": "markdown",
   "id": "2489ba8d-7547-4a63-b105-c3ad8e63eba8",
   "metadata": {},
   "source": [
    "Some of the popular languages that Data Scientists use are:\n",
    "1. Python\n",
    "2. R\n",
    "3. SQL\n",
    "4. Scala\n",
    "5. Java\n",
    "6. C++\n",
    "7. Julia"
   ]
  },
  {
   "cell_type": "markdown",
   "id": "4e8f11c7-df9d-4722-93ac-7c373ee6c688",
   "metadata": {},
   "source": [
    "**Exercise 5 - Create a markdown cell to list data science libraries**\n",
    "\n",
    "Add an overview line to the cell like:\n",
    "\n",
    "`Some of the commonly used libraries used by Data Scientists include:`\n",
    "\n",
    "Below this line add an `ordered list` listing 3 (or more) commonly used libraries in data science.\n",
    "\n",
    "*Take a screenshot of the markdown cell and name it as* `5-dslibraries.png`\n"
   ]
  },
  {
   "cell_type": "markdown",
   "id": "0333a0f9-c6dc-442e-9726-eead3276e7ac",
   "metadata": {},
   "source": [
    "Some of the commonly used libraries used by Data Scientists include:\n",
    "1. Pandas (Python)\n",
    "2. NumPy (Python)\n",
    "3. SciPy (Python)\n",
    "4. Matplotlib (Python)\n",
    "5. TensorFlow (Python)\n",
    "6. ggplot2 (R)\n",
    "7. plotly (R)\n",
    "8. Lattice (R)"
   ]
  },
  {
   "cell_type": "markdown",
   "id": "82d07c82-3306-4583-bb04-bee40d749a2f",
   "metadata": {},
   "source": [
    "**Exercise 6 - Create a markdown cell with a table of Data Science tools**\n",
    "\n",
    "Create a single column table in this cell with the first row containing the header `Data Science Tools`. The subsequent three rows in the table should indicate three development environment open source tools used in data science.\n",
    "\n",
    "*Take a screenshot of the markdown cell and name it as* `6-dstools.png`\n",
    "\n",
    "*Hint: Refer to* **Lab: Using Markdowns in Jupyter Notebooks** *to create a table.*\n"
   ]
  },
  {
   "cell_type": "markdown",
   "id": "3d93cb6a-aeb5-4361-a515-6a06ce2f67fd",
   "metadata": {},
   "source": [
    "|Data Science Tools|\n",
    "|--------------------|\n",
    "|Jupyter Notebook|\n",
    "|RStudio|\n",
    "|VS Code|"
   ]
  },
  {
   "cell_type": "markdown",
   "id": "bba48255-1182-4377-9482-9b58283e834d",
   "metadata": {},
   "source": [
    "**Exercise 7 - Create a markdown cell introducing arithmetic expression examples**\n",
    "\n",
    "Add a line in this cell with H3 style heading with text like:\n",
    "\n",
    "`Below are a few examples of evaluating arithmetic expressions in Python`\n",
    "\n",
    "*Take a screenshot of the markdown cell and name it as* `7-introarithmetic.png`\n"
   ]
  },
  {
   "cell_type": "markdown",
   "id": "35402958-2ea5-4bdf-9c6c-af21afb57f74",
   "metadata": {},
   "source": [
    "### Below are a few examples of evaluating arithmetic expressions in Python"
   ]
  },
  {
   "attachments": {},
   "cell_type": "markdown",
   "id": "f412d145-c6b4-455d-be1c-51f21d57717d",
   "metadata": {},
   "source": [
    "**Exercise 8 - Create a code cell to multiply and add numbers**\n",
    "\n",
    "In this code cell evaluate the expression `(3*4)+5`.\n",
    "\n",
    "*Insert a comment line before the expression to explain the operation e.g.* `This is a simple arithmetic expression to multiply then add integers`.\n",
    "\n",
    "Then execute the cell to ensure the expression returns the expected output of `17`.\n",
    "\n",
    "*Take a screenshot of the code cell with output and name it as* `8-multiplyandaddintegers.png`\n"
   ]
  },
  {
   "cell_type": "code",
   "execution_count": 1,
   "id": "51eb89bf-d224-4f0b-b84c-f509fe309f6b",
   "metadata": {},
   "outputs": [
    {
     "data": {
      "text/plain": [
       "17"
      ]
     },
     "execution_count": 1,
     "metadata": {},
     "output_type": "execute_result"
    }
   ],
   "source": [
    "#This a simple arithmetic expression to mutiply then add integers\n",
    "(3*4)+5"
   ]
  },
  {
   "cell_type": "markdown",
   "id": "d491d339-c8a1-471a-aaf5-66c2352a1dbc",
   "metadata": {},
   "source": [
    "**Exercise 9 - Create a code cell to convert minutes to hours**\n",
    "\n",
    "In this code cell write an expression that converts `200 minutes` into `hours`.\n",
    "\n",
    "*Insert a comment line before the expression to explain the operation e.g.* `This will convert 200 minutes to hours by diving by 60`.\n",
    "\n",
    "Run the cell to evaluate the expression.\n"
   ]
  },
  {
   "cell_type": "code",
   "execution_count": 4,
   "id": "55a3fda3-f9e7-4e5c-af49-cc5d0036b86c",
   "metadata": {},
   "outputs": [
    {
     "name": "stdout",
     "output_type": "stream",
     "text": [
      "200 minutes are equal to 3.3333 hours.\n"
     ]
    }
   ],
   "source": [
    "#This will convert 200 minutes to hours by diving by 60\n",
    "minutes=200\n",
    "hours=minutes/60\n",
    "print(f\"{minutes} minutes are equal to {hours:.4f} hours.\")"
   ]
  },
  {
   "cell_type": "markdown",
   "id": "a951d933-62f7-440a-b0e0-ff37b07f79ac",
   "metadata": {},
   "source": [
    "**Exercise 10 - Insert a markdown cell to list Objectives**\n",
    "\n",
    "Below the introduction cell created in Exercise 3, insert a new markdown cell to list the objectives that this notebook covered (i.e. some of the key takeaways from the course). In this new cell start with an introductory line titled: `Objectives:` in bold font. Then using an `unordered list` (bullets) indicate 3 to 5 items covered in this notebook, such as `List popular languages for Data Science`.\n",
    "\n",
    "*Take a screenshot of the markdown cell and name it as* `10-objectives.png`\n"
   ]
  },
  {
   "cell_type": "markdown",
   "id": "a960e815-370c-4a08-a26f-efffd00fab14",
   "metadata": {},
   "source": [
    "**Exercise 11 - Create a markdown cell to indicate the Author's name**\n",
    "\n",
    "In this markdown cell markdown cell include the following text `Author` in `H2 style heading`. Include your `name` as regular text below the word `Author`.\n",
    "\n",
    "*Take a screenshot of the markdown cell and name it as* `11-authordetails.png`\n",
    "\n",
    "*Note: Save and download the notebook.*\n",
    "\n"
   ]
  },
  {
   "cell_type": "markdown",
   "id": "34db6af3-689a-4577-8207-2328ceee27bc",
   "metadata": {},
   "source": [
    "## Author\n",
    "\n",
    "Daniel Medina Gonzalez\n"
   ]
  },
  {
   "cell_type": "markdown",
   "id": "aa77020e-7655-472f-9f35-ddb3b3151599",
   "metadata": {},
   "source": [
    "**Exercise 12 - Share your notebook through GitHub**\n",
    "\n",
    "Upload your notebook to a public respository on **GitHub**.\n",
    "\n",
    "> *Note : Please keep the* `GitHub repo link` *of the notebook handy.*  \n",
    "> *You will need to submit this link as a part of the assignment evaluation.*\n",
    "\n",
    "*Hint: Refer to Lab: Working with files in Jupyter Notebooks to download the notebook from* **SN Labs**."
   ]
  },
  {
   "cell_type": "markdown",
   "id": "b973b755-d852-4915-8d32-660dac3045bf",
   "metadata": {},
   "source": [
    "**Exercise 13 - Take a screenshot of the first page of the notebook and save it as** `1-notebook.png`\n",
    "\n",
    "*Refer to Hands-on Lab: Getting Started with GitHub to upload the downloaded notebook to* **GitHub**.\n",
    "\n",
    "Congratulations on completing this project. In a subsequent item in the course you will submit a link to your notebook on GitHub and evaluate your peers.\n"
   ]
  },
  {
   "cell_type": "code",
   "execution_count": null,
   "id": "5ed171b0-6f6f-4fb6-b15d-2254e4e58320",
   "metadata": {},
   "outputs": [],
   "source": []
  }
 ],
 "metadata": {
  "kernelspec": {
   "display_name": "Python 3 (ipykernel)",
   "language": "python",
   "name": "python3"
  },
  "language_info": {
   "codemirror_mode": {
    "name": "ipython",
    "version": 3
   },
   "file_extension": ".py",
   "mimetype": "text/x-python",
   "name": "python",
   "nbconvert_exporter": "python",
   "pygments_lexer": "ipython3",
   "version": "3.12.8"
  }
 },
 "nbformat": 4,
 "nbformat_minor": 5
}
